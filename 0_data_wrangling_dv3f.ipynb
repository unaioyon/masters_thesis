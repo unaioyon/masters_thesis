{
 "cells": [
  {
   "cell_type": "markdown",
   "id": "d37c10ca",
   "metadata": {},
   "source": [
    "# Cleaning the DV3F Dataset"
   ]
  },
  {
   "cell_type": "code",
   "execution_count": 1,
   "id": "74b1ed91",
   "metadata": {},
   "outputs": [],
   "source": [
    "# Import packages\n",
    "import pandas as pd\n",
    "import numpy as np\n",
    "import os\n",
    "\n",
    "import geopandas as gpd\n",
    "from shapely import geometry"
   ]
  },
  {
   "cell_type": "code",
   "execution_count": 2,
   "id": "9919d6cc",
   "metadata": {},
   "outputs": [],
   "source": [
    "os.chdir(\"/Users/unaioyon/Desktop/DV3F_new\")"
   ]
  },
  {
   "cell_type": "markdown",
   "id": "f344ffa0",
   "metadata": {},
   "source": [
    "## 0. Cleaning the DV3F geometries"
   ]
  },
  {
   "cell_type": "code",
   "execution_count": null,
   "id": "26fe0faf",
   "metadata": {
    "scrolled": true
   },
   "outputs": [],
   "source": [
    "dv3f = pd.read_csv(\"mod/mutations_paris_geometrie.csv\")"
   ]
  },
  {
   "cell_type": "code",
   "execution_count": null,
   "id": "13cb00ac",
   "metadata": {},
   "outputs": [],
   "source": [
    "dv3f.head(4)"
   ]
  },
  {
   "cell_type": "code",
   "execution_count": null,
   "id": "72581ef2",
   "metadata": {},
   "outputs": [],
   "source": [
    "# Converting WKT-stored geometries to Shapely (Geopandas-tractable) geometries\n",
    "# The coding NaN generates a proble, so convert them to None before\n",
    "dv3f = dv3f.where(pd.notnull(dv3f), None)\n",
    "dv3f[\"geometry\"] = gpd.GeoSeries.from_wkt(dv3f[\"st_astext\"])"
   ]
  },
  {
   "cell_type": "code",
   "execution_count": null,
   "id": "8721376a",
   "metadata": {},
   "outputs": [],
   "source": [
    "dv3f.info()"
   ]
  },
  {
   "cell_type": "code",
   "execution_count": null,
   "id": "cb75723e",
   "metadata": {},
   "outputs": [],
   "source": [
    "# Create a GeoDataFrame\n",
    "dv3f = gpd.GeoDataFrame(dv3f, geometry = \"geometry\")\n",
    "dv3f.drop(\"st_astext\", axis = 1, inplace = True)"
   ]
  },
  {
   "cell_type": "code",
   "execution_count": null,
   "id": "053ae59d",
   "metadata": {},
   "outputs": [],
   "source": [
    "dv3f.info()"
   ]
  },
  {
   "cell_type": "code",
   "execution_count": null,
   "id": "b42acc3e",
   "metadata": {},
   "outputs": [],
   "source": [
    "# Export the GeoDataFrame\n",
    "dv3f.to_file(\"mod/mutations_paris_geometrie.shp\")"
   ]
  },
  {
   "cell_type": "code",
   "execution_count": null,
   "id": "ea5b47ca",
   "metadata": {},
   "outputs": [],
   "source": [
    "dv3f[dv3f[\"geometry\"].isna() == True].index"
   ]
  },
  {
   "cell_type": "code",
   "execution_count": null,
   "id": "03e6cb09",
   "metadata": {},
   "outputs": [],
   "source": [
    "dv3f.plot()"
   ]
  },
  {
   "cell_type": "markdown",
   "id": "5c2fc6ee",
   "metadata": {},
   "source": [
    "## 1. Loading the final DV3F dataset"
   ]
  },
  {
   "cell_type": "code",
   "execution_count": 3,
   "id": "190897dd",
   "metadata": {},
   "outputs": [],
   "source": [
    "dv3f = gpd.read_file(\"mod/mutations_paris.shp\")"
   ]
  },
  {
   "cell_type": "code",
   "execution_count": 7,
   "id": "3254dfcb",
   "metadata": {},
   "outputs": [
    {
     "data": {
      "text/plain": [
       "array(['DEUX APPARTEMENTS ANCIENS', 'UN APPARTEMENT ANCIEN T2',\n",
       "       'UN APPARTEMENT ANCIEN T4', 'UNE DEPENDANCE AUTRE', 'UN GARAGE',\n",
       "       'BATI - INDETERMINE : Vefa sans descriptif',\n",
       "       'UN APPARTEMENT ANCIEN T1', 'UN APPARTEMENT ANCIEN T3',\n",
       "       'UN APPARTEMENT AGE INDETERMINE', 'ACTIVITE TERTIAIRE',\n",
       "       'UN APPARTEMENT ANCIEN T5 ou +', 'DES DEPENDANCES',\n",
       "       'UNE MAISON ANCIENNE', 'UN APPARTEMENT RECENT T1',\n",
       "       'BATI MIXTE - LOGEMENT/ACTIVITE',\n",
       "       'DES APPARTEMENTS DANS LE MEME IMMEUBLE',\n",
       "       'BATI - INDETERMINE : Vente avec volume(s)',\n",
       "       'APPARTEMENT INDETERMINE', 'UN APPARTEMENT VEFA OU NEUF T3',\n",
       "       'UN APPARTEMENT VEFA OU NEUF T2', 'TERRAIN ARTIFICIALISE MIXTE',\n",
       "       'DEUX APPARTEMENTS INDETERMINES', 'UN APPARTEMENT RECENT T2',\n",
       "       'UN APPARTEMENT VEFA OU NEUF T1', 'TERRAIN DE TYPE TAB',\n",
       "       'UN APPARTEMENT VEFA OU NEUF T4',\n",
       "       'DEUX APPARTEMENTS VEFA OU NEUFS', 'UN APPARTEMENT RECENT T3',\n",
       "       'UN APPARTEMENT RECENT T4', 'BATI MIXTE - LOGEMENTS',\n",
       "       'DEUX APPARTEMENTS A USAGE MIXTE', 'DES MAISONS',\n",
       "       'UN APPARTEMENT A USAGE PROFESSIONNEL', 'ACTIVITE INDETERMINEE',\n",
       "       'UN APPARTEMENT VEFA OU NEUF T5 ou +', 'ACTIVITE MIXTE',\n",
       "       'UNE MAISON RECENTE', 'DEUX APPARTEMENTS RECENTS',\n",
       "       'UNE MAISON VEFA OU NEUVE', 'UN APPARTEMENT RECENT T5 ou +',\n",
       "       'DEUX APPARTEMENTS A USAGE PROFESSIONNEL', 'ACTIVITE SECONDAIRE',\n",
       "       'UNE MAISON A USAGE PROFESSIONNEL', 'TERRAIN DE TYPE RESEAU',\n",
       "       \"TERRAIN D'AGREMENT\", 'UNE MAISON AGE INDETERMINE',\n",
       "       'MAISON - INDETERMINEE'], dtype=object)"
      ]
     },
     "execution_count": 7,
     "metadata": {},
     "output_type": "execute_result"
    }
   ],
   "source": [
    "dv3f[\"libtypbien\"].unique()"
   ]
  },
  {
   "cell_type": "code",
   "execution_count": 5,
   "id": "aa33575a",
   "metadata": {},
   "outputs": [
    {
     "name": "stdout",
     "output_type": "stream",
     "text": [
      "<class 'geopandas.geodataframe.GeoDataFrame'>\n",
      "RangeIndex: 427694 entries, 0 to 427693\n",
      "Data columns (total 50 columns):\n",
      " #   Column      Non-Null Count   Dtype   \n",
      "---  ------      --------------   -----   \n",
      " 0   idmutation  427694 non-null  float64 \n",
      " 1   idmutinvar  427694 non-null  object  \n",
      " 2   idopendata  427694 non-null  object  \n",
      " 3   idnatmut    427694 non-null  float64 \n",
      " 4   codservch   324989 non-null  object  \n",
      " 5   refdoc      324989 non-null  object  \n",
      " 6   datemut     427694 non-null  object  \n",
      " 7   anneemut    427694 non-null  float64 \n",
      " 8   moismut     427694 non-null  float64 \n",
      " 9   coddep      427694 non-null  float64 \n",
      " 10  libnatmut   427694 non-null  object  \n",
      " 11  vefa        427694 non-null  int64   \n",
      " 12  valeurfonc  427544 non-null  float64 \n",
      " 13  nblot       427694 non-null  float64 \n",
      " 14  nbcomm      427694 non-null  float64 \n",
      " 15  l_codinsee  427694 non-null  object  \n",
      " 16  nbsection   427694 non-null  float64 \n",
      " 17  l_section   427694 non-null  object  \n",
      " 18  nbpar       427694 non-null  float64 \n",
      " 19  l_idpar     427694 non-null  object  \n",
      " 20  nbparmut    427694 non-null  float64 \n",
      " 21  l_idparmut  5299 non-null    object  \n",
      " 22  sterr       427694 non-null  float64 \n",
      " 23  nbvolmut    427694 non-null  float64 \n",
      " 24  nblocmut    427694 non-null  float64 \n",
      " 25  nblocmai    427694 non-null  float64 \n",
      " 26  nblocapt    427694 non-null  float64 \n",
      " 27  nblocdep    427694 non-null  float64 \n",
      " 28  nblocact    427694 non-null  float64 \n",
      " 29  sbati       427694 non-null  float64 \n",
      " 30  sbatmai     427694 non-null  float64 \n",
      " 31  sbatapt     427694 non-null  float64 \n",
      " 32  sbatact     427694 non-null  float64 \n",
      " 33  ffsparc     427677 non-null  float64 \n",
      " 34  ffnblocmai  426442 non-null  float64 \n",
      " 35  ffnblocapt  426442 non-null  float64 \n",
      " 36  ffnblocdep  426442 non-null  float64 \n",
      " 37  ffnblocact  426442 non-null  float64 \n",
      " 38  ffnbactsec  426442 non-null  float64 \n",
      " 39  ffnbactter  426442 non-null  float64 \n",
      " 40  ffnbloch    426442 non-null  float64 \n",
      " 41  ffnblogsoc  426442 non-null  float64 \n",
      " 42  ffsbati     426442 non-null  float64 \n",
      " 43  ffshab      426442 non-null  float64 \n",
      " 44  ffsdep      426442 non-null  float64 \n",
      " 45  codtypbien  427694 non-null  float64 \n",
      " 46  libtypbien  427694 non-null  object  \n",
      " 47  nbsite      427665 non-null  float64 \n",
      " 48  filtre      427694 non-null  object  \n",
      " 49  geometry    427683 non-null  geometry\n",
      "dtypes: float64(36), geometry(1), int64(1), object(12)\n",
      "memory usage: 163.2+ MB\n"
     ]
    }
   ],
   "source": [
    "dv3f.info()"
   ]
  }
 ],
 "metadata": {
  "kernelspec": {
   "display_name": "geo_env",
   "language": "python",
   "name": "geo_env"
  },
  "language_info": {
   "codemirror_mode": {
    "name": "ipython",
    "version": 3
   },
   "file_extension": ".py",
   "mimetype": "text/x-python",
   "name": "python",
   "nbconvert_exporter": "python",
   "pygments_lexer": "ipython3",
   "version": "3.11.0"
  }
 },
 "nbformat": 4,
 "nbformat_minor": 5
}
