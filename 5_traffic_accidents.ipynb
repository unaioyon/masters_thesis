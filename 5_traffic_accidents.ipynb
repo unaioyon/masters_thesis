{
 "cells": [
  {
   "cell_type": "markdown",
   "id": "664c2177",
   "metadata": {},
   "source": [
    "# Geocoding the BAAC database"
   ]
  },
  {
   "cell_type": "code",
   "execution_count": 1,
   "id": "13dc1dc2",
   "metadata": {},
   "outputs": [],
   "source": [
    "# Import packages\n",
    "# Operational\n",
    "import os\n",
    "from os.path import isfile, join\n",
    "import zipfile\n",
    "\n",
    "# Basic\n",
    "import numpy as np\n",
    "import pandas as pd\n",
    "import matplotlib.pyplot as plt\n",
    "\n",
    "# Scale for maps\n",
    "from matplotlib_scalebar.scalebar import ScaleBar\n",
    "# Personalised legends for maps\n",
    "from matplotlib.patches import Patch\n",
    "from matplotlib.lines import Line2D\n",
    "\n",
    "# Geospatial\n",
    "import geopandas as gpd\n",
    "import rasterio as rio\n",
    "import fiona\n",
    "import contextily\n",
    "import osmnx\n",
    "from shapely import geometry"
   ]
  },
  {
   "cell_type": "code",
   "execution_count": 2,
   "id": "d21b0a99",
   "metadata": {},
   "outputs": [],
   "source": [
    "# Working directory\n",
    "os.chdir(\"/Users/unaioyon/Desktop/masters_thesis/data/fra\")"
   ]
  },
  {
   "cell_type": "code",
   "execution_count": 63,
   "id": "21662bc1",
   "metadata": {},
   "outputs": [],
   "source": [
    "# Import the data\n",
    "# 2005 - 2016\n",
    "acc1 = pd.read_csv(\"accidents/geolocated_tristramgrabener/paris/accidents_paris.csv\",\n",
    "                   sep = \";\",\n",
    "                  low_memory = False)"
   ]
  },
  {
   "cell_type": "code",
   "execution_count": 19,
   "id": "d5d17fa5",
   "metadata": {},
   "outputs": [
    {
     "name": "stdout",
     "output_type": "stream",
     "text": [
      "12220\n"
     ]
    }
   ],
   "source": [
    "acc1.iloc[:,21:29].head()\n",
    "print(acc1[\"longitude\"].isna().sum())"
   ]
  },
  {
   "cell_type": "code",
   "execution_count": null,
   "id": "f7b94da1",
   "metadata": {},
   "outputs": [],
   "source": [
    "# Import the data\n",
    "# 2017 - 2020\n",
    "for i in np.arange(2017, 2021):\n",
    "    "
   ]
  },
  {
   "cell_type": "code",
   "execution_count": 58,
   "id": "a6e1be7d",
   "metadata": {},
   "outputs": [
    {
     "name": "stdout",
     "output_type": "stream",
     "text": [
      "EPSG:4326\n"
     ]
    }
   ],
   "source": [
    "##### IMPORT SLOW ZONES DATA\n",
    "zones = gpd.read_file(\"zones_30/zones-30.shp\")\n",
    "print(zones.crs) # EPSG:4326 "
   ]
  },
  {
   "cell_type": "code",
   "execution_count": null,
   "id": "da0af559",
   "metadata": {},
   "outputs": [],
   "source": [
    "##### IMPORT IRIS DATA\n",
    "zones = gpd.read_file(\"zones_30/zones-30.shp\")\n",
    "print(zones.crs) # EPSG:4326 "
   ]
  },
  {
   "cell_type": "markdown",
   "id": "b4fc94bc",
   "metadata": {},
   "source": [
    "## 1. Creating the geodataframes"
   ]
  },
  {
   "cell_type": "code",
   "execution_count": 64,
   "id": "00dcac92",
   "metadata": {},
   "outputs": [],
   "source": [
    "# From points in the 2005-2016 Paris data (original CRS is WGS84 (EPSG:4326))\n",
    "acc1 = gpd.GeoDataFrame(acc1,\n",
    "                        crs = \"EPSG:4326\",\n",
    "                       geometry = gpd.points_from_xy(x = acc1[\"longitude\"], y = acc1[\"latitude\"]))"
   ]
  },
  {
   "cell_type": "markdown",
   "id": "6e10e106",
   "metadata": {},
   "source": [
    "## 2. Assigning accidents to: IRIS AND SLOW ZONES"
   ]
  },
  {
   "cell_type": "markdown",
   "id": "65939bd7",
   "metadata": {},
   "source": [
    "### 2005 - 2016"
   ]
  },
  {
   "cell_type": "code",
   "execution_count": 65,
   "id": "8c10099e",
   "metadata": {},
   "outputs": [],
   "source": [
    "# Create a new variable in acc1 (the Paris 2005-2016 accidents database)\n",
    "# Slow zones\n",
    "acc1.insert(67, \"slow_zone\", pd.Series([], dtype = \"object\"))\n",
    "acc1.insert(68, \"slow_zone_year\", pd.Series([], dtype = \"object\"))\n",
    "acc1.insert(69, \"slow_zone_d\", pd.Series([], dtype = \"object\"))\n",
    "\n",
    "# IRIS\n",
    "acc1.insert(70, \"iris\", pd.Series([], dtype = \"object\"))\n",
    "acc1.insert(71, \"iris_code\", pd.Series([], dtype = \"object\"))\n",
    "acc1.insert(72, \"iris_name\", pd.Series([], dtype = \"object\"))"
   ]
  },
  {
   "cell_type": "code",
   "execution_count": 66,
   "id": "c5e06981",
   "metadata": {},
   "outputs": [
    {
     "name": "stdout",
     "output_type": "stream",
     "text": [
      "CPU times: user 36.9 s, sys: 114 ms, total: 37 s\n",
      "Wall time: 37.1 s\n"
     ]
    }
   ],
   "source": [
    "%%time\n",
    "# Classifying SLOW ZONES\n",
    "# There are 9 zones with missing geometries, so these ones will not have any transaction inside\n",
    "zones_non_na = zones[zones[\"geometry\"].notna()].copy()\n",
    "\n",
    "for i in zones_non_na.index:\n",
    "    acc1.loc[acc1[\"geometry\"].within(zones.loc[i, \"geometry\"]), \"slow_zone\"] = zones.loc[i, \"nom_zca\"]\n",
    "    acc1.loc[acc1[\"geometry\"].within(zones.loc[i, \"geometry\"]), \"slow_zone_year\"] = zones.loc[i, \"year\"]\n",
    "    acc1.loc[acc1[\"geometry\"].within(zones.loc[i, \"geometry\"]), \"slow_zone_name\"] = zones.loc[i, \"year\"]\n",
    "    \n",
    "# Add a dummy equal to 1 if inside a slow zone\n",
    "acc1[\"slow_zone_d\"] = 0\n",
    "acc1.loc[acc1[\"slow_zone\"].notna(), \"slow_zone_d\"] = 1"
   ]
  },
  {
   "cell_type": "code",
   "execution_count": 68,
   "id": "b5295e8f",
   "metadata": {},
   "outputs": [
    {
     "data": {
      "text/plain": [
       "count    76399.000000\n",
       "mean         0.241417\n",
       "std          0.427945\n",
       "min          0.000000\n",
       "25%          0.000000\n",
       "50%          0.000000\n",
       "75%          0.000000\n",
       "max          1.000000\n",
       "Name: slow_zone_d, dtype: float64"
      ]
     },
     "execution_count": 68,
     "metadata": {},
     "output_type": "execute_result"
    }
   ],
   "source": [
    "# Evaluate the results\n",
    "acc1[\"slow_zone_d\"].describe() # 24.14 of the accidents happen inside slow zones"
   ]
  },
  {
   "cell_type": "code",
   "execution_count": 77,
   "id": "9813e2a9",
   "metadata": {},
   "outputs": [
    {
     "data": {
      "text/plain": [
       "133"
      ]
     },
     "execution_count": 77,
     "metadata": {},
     "output_type": "execute_result"
    }
   ],
   "source": [
    "len(acc1[\"slow_zone\"].unique()) # so, given there are 133 zones  with geometry, all of them have at least 1 accident"
   ]
  },
  {
   "cell_type": "code",
   "execution_count": null,
   "id": "92d02486",
   "metadata": {},
   "outputs": [],
   "source": [
    "%%time\n",
    "# Classifying IRIS\n",
    "\n",
    "for i in iris.index:\n",
    "    acc1.loc[dv3f[\"centroid\"].within(iris.loc[i, \"geometry\"]), \"iris\"] = iris.loc[i, \"IRIS\"]\n",
    "    acc1.loc[dv3f[\"centroid\"].within(iris.loc[i, \"geometry\"]), \"iris_code\"] = iris.loc[i, \"CODE_IRIS\"]\n",
    "    acc1.loc[dv3f[\"centroid\"].within(iris.loc[i, \"geometry\"]), \"iris_name\"] = iris.loc[i, \"NOM_IRIS\"]"
   ]
  },
  {
   "cell_type": "code",
   "execution_count": 79,
   "id": "a4572f77",
   "metadata": {},
   "outputs": [
    {
     "data": {
      "text/html": [
       "<div>\n",
       "<style scoped>\n",
       "    .dataframe tbody tr th:only-of-type {\n",
       "        vertical-align: middle;\n",
       "    }\n",
       "\n",
       "    .dataframe tbody tr th {\n",
       "        vertical-align: top;\n",
       "    }\n",
       "\n",
       "    .dataframe thead th {\n",
       "        text-align: right;\n",
       "    }\n",
       "</style>\n",
       "<table border=\"1\" class=\"dataframe\">\n",
       "  <thead>\n",
       "    <tr style=\"text-align: right;\">\n",
       "      <th></th>\n",
       "      <th>INSEE_COM</th>\n",
       "      <th>NOM_COM</th>\n",
       "      <th>IRIS</th>\n",
       "      <th>CODE_IRIS</th>\n",
       "      <th>NOM_IRIS</th>\n",
       "      <th>TYP_IRIS</th>\n",
       "      <th>geometry</th>\n",
       "    </tr>\n",
       "  </thead>\n",
       "  <tbody>\n",
       "    <tr>\n",
       "      <th>0</th>\n",
       "      <td>72191</td>\n",
       "      <td>Mayet</td>\n",
       "      <td>0000</td>\n",
       "      <td>721910000</td>\n",
       "      <td>Mayet</td>\n",
       "      <td>Z</td>\n",
       "      <td>POLYGON ((497887.400 6747662.400, 497907.200 6...</td>\n",
       "    </tr>\n",
       "    <tr>\n",
       "      <th>1</th>\n",
       "      <td>77248</td>\n",
       "      <td>Lesches</td>\n",
       "      <td>0000</td>\n",
       "      <td>772480000</td>\n",
       "      <td>Lesches</td>\n",
       "      <td>Z</td>\n",
       "      <td>POLYGON ((685757.700 6868592.300, 685832.500 6...</td>\n",
       "    </tr>\n",
       "    <tr>\n",
       "      <th>2</th>\n",
       "      <td>51426</td>\n",
       "      <td>Péas</td>\n",
       "      <td>0000</td>\n",
       "      <td>514260000</td>\n",
       "      <td>Péas</td>\n",
       "      <td>Z</td>\n",
       "      <td>POLYGON ((757292.900 6847598.400, 757334.300 6...</td>\n",
       "    </tr>\n",
       "    <tr>\n",
       "      <th>3</th>\n",
       "      <td>81199</td>\n",
       "      <td>Padiès</td>\n",
       "      <td>0000</td>\n",
       "      <td>811990000</td>\n",
       "      <td>Padiès</td>\n",
       "      <td>Z</td>\n",
       "      <td>POLYGON ((646146.900 6328153.200, 646124.900 6...</td>\n",
       "    </tr>\n",
       "    <tr>\n",
       "      <th>4</th>\n",
       "      <td>59225</td>\n",
       "      <td>Feignies</td>\n",
       "      <td>0102</td>\n",
       "      <td>592250102</td>\n",
       "      <td>Sud</td>\n",
       "      <td>H</td>\n",
       "      <td>POLYGON ((767596.000 7022269.100, 767242.200 7...</td>\n",
       "    </tr>\n",
       "    <tr>\n",
       "      <th>5</th>\n",
       "      <td>60397</td>\n",
       "      <td>Le Mesnil-Conteville</td>\n",
       "      <td>0000</td>\n",
       "      <td>603970000</td>\n",
       "      <td>Le Mesnil-Conteville</td>\n",
       "      <td>Z</td>\n",
       "      <td>POLYGON ((633388.600 6951720.500, 633333.400 6...</td>\n",
       "    </tr>\n",
       "    <tr>\n",
       "      <th>6</th>\n",
       "      <td>38382</td>\n",
       "      <td>Saint-Égrève</td>\n",
       "      <td>0104</td>\n",
       "      <td>383820104</td>\n",
       "      <td>Barnave-Saint-Robert</td>\n",
       "      <td>H</td>\n",
       "      <td>POLYGON ((910055.200 6463692.500, 910060.100 6...</td>\n",
       "    </tr>\n",
       "    <tr>\n",
       "      <th>7</th>\n",
       "      <td>14426</td>\n",
       "      <td>Le Mesnil-sur-Blangy</td>\n",
       "      <td>0000</td>\n",
       "      <td>144260000</td>\n",
       "      <td>Le Mesnil-sur-Blangy</td>\n",
       "      <td>Z</td>\n",
       "      <td>POLYGON ((499002.400 6909564.300, 499052.700 6...</td>\n",
       "    </tr>\n",
       "    <tr>\n",
       "      <th>8</th>\n",
       "      <td>34317</td>\n",
       "      <td>La Vacquerie-et-Saint-Martin-de-Castries</td>\n",
       "      <td>0000</td>\n",
       "      <td>343170000</td>\n",
       "      <td>La Vacquerie-et-Saint-Martin-de-Castries</td>\n",
       "      <td>Z</td>\n",
       "      <td>POLYGON ((735477.100 6304551.300, 735491.800 6...</td>\n",
       "    </tr>\n",
       "  </tbody>\n",
       "</table>\n",
       "</div>"
      ],
      "text/plain": [
       "  INSEE_COM                                   NOM_COM  IRIS  CODE_IRIS  \\\n",
       "0     72191                                     Mayet  0000  721910000   \n",
       "1     77248                                   Lesches  0000  772480000   \n",
       "2     51426                                      Péas  0000  514260000   \n",
       "3     81199                                    Padiès  0000  811990000   \n",
       "4     59225                                  Feignies  0102  592250102   \n",
       "5     60397                      Le Mesnil-Conteville  0000  603970000   \n",
       "6     38382                              Saint-Égrève  0104  383820104   \n",
       "7     14426                      Le Mesnil-sur-Blangy  0000  144260000   \n",
       "8     34317  La Vacquerie-et-Saint-Martin-de-Castries  0000  343170000   \n",
       "\n",
       "                                   NOM_IRIS TYP_IRIS  \\\n",
       "0                                     Mayet        Z   \n",
       "1                                   Lesches        Z   \n",
       "2                                      Péas        Z   \n",
       "3                                    Padiès        Z   \n",
       "4                                       Sud        H   \n",
       "5                      Le Mesnil-Conteville        Z   \n",
       "6                      Barnave-Saint-Robert        H   \n",
       "7                      Le Mesnil-sur-Blangy        Z   \n",
       "8  La Vacquerie-et-Saint-Martin-de-Castries        Z   \n",
       "\n",
       "                                            geometry  \n",
       "0  POLYGON ((497887.400 6747662.400, 497907.200 6...  \n",
       "1  POLYGON ((685757.700 6868592.300, 685832.500 6...  \n",
       "2  POLYGON ((757292.900 6847598.400, 757334.300 6...  \n",
       "3  POLYGON ((646146.900 6328153.200, 646124.900 6...  \n",
       "4  POLYGON ((767596.000 7022269.100, 767242.200 7...  \n",
       "5  POLYGON ((633388.600 6951720.500, 633333.400 6...  \n",
       "6  POLYGON ((910055.200 6463692.500, 910060.100 6...  \n",
       "7  POLYGON ((499002.400 6909564.300, 499052.700 6...  \n",
       "8  POLYGON ((735477.100 6304551.300, 735491.800 6...  "
      ]
     },
     "execution_count": 79,
     "metadata": {},
     "output_type": "execute_result"
    }
   ],
   "source": [
    "iris19.head(9)"
   ]
  }
 ],
 "metadata": {
  "kernelspec": {
   "display_name": "geo_env",
   "language": "python",
   "name": "geo_env"
  },
  "language_info": {
   "codemirror_mode": {
    "name": "ipython",
    "version": 3
   },
   "file_extension": ".py",
   "mimetype": "text/x-python",
   "name": "python",
   "nbconvert_exporter": "python",
   "pygments_lexer": "ipython3",
   "version": "3.11.0"
  }
 },
 "nbformat": 4,
 "nbformat_minor": 5
}
